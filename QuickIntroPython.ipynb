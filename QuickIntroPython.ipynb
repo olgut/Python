{
 "cells": [
  {
   "cell_type": "markdown",
   "metadata": {},
   "source": [
    "# Quick Notes"
   ]
  },
  {
   "cell_type": "code",
   "execution_count": 1,
   "metadata": {},
   "outputs": [],
   "source": [
    "# plots pictures here instead of a new window\n",
    "# any updates to libraries get automatically\n",
    "%matplotlib inline\n",
    "%reload_ext autoreload\n",
    "%autoreload 2\n",
    "\n",
    "# check regular expressions  RegEx = r’/([^/]+)_\\d+.jpg$’ => gets section of a string\n",
    "# to see argument details of a function => shift + tab\n",
    "# help on command-> command??\n",
    "# Pi torch - any function ends with _ means return values replace e.g. x[:,0].uniform_(-1,1)\n",
    "# rank x tensor(array)-> x shows dimension e.g. pictures are saved rank 3 tensors, column, row, and channels\n",
    "# comment multiple lines, select lines then control+slash (/)\n",
    "# __X__ -> Dunder (double underscore) or magic methods"
   ]
  },
  {
   "cell_type": "markdown",
   "metadata": {},
   "source": [
    "# Quicksort Algorithm"
   ]
  },
  {
   "cell_type": "code",
   "execution_count": 2,
   "metadata": {},
   "outputs": [
    {
     "name": "stdout",
     "output_type": "stream",
     "text": [
      "[3, 6, 8, 10, 1, 2, 1]\n",
      "[11]\n",
      "[]\n",
      "loop number = X\n",
      "[3, 6, 8, 1, 2, 1]\n",
      "[10]\n",
      "[]\n",
      "loop number = X\n",
      "[]\n",
      "[1, 1]\n",
      "[3, 6, 8, 2]\n",
      "loop number = X\n",
      "[3, 6, 2]\n",
      "[8]\n",
      "[]\n",
      "loop number = X\n",
      "[3, 2]\n",
      "[6]\n",
      "[]\n",
      "loop number = X\n",
      "[]\n",
      "[2]\n",
      "[3]\n",
      "loop number = X\n",
      "\r\n",
      "Result =  [1, 1, 2, 3, 6, 8, 10, 11]\n"
     ]
    }
   ],
   "source": [
    "def quicksort(arr):\n",
    "    if len(arr) <= 1:\n",
    "        return arr\n",
    "    pivot = arr[len(arr) // 2]\n",
    "    left = [x for x in arr if x < pivot]\n",
    "    middle = [x for x in arr if x == pivot]\n",
    "    right = [x for x in arr if x > pivot]\n",
    "    print(left)\n",
    "    print(middle)\n",
    "    print(right)\n",
    "    print(\"loop number = X\")\n",
    "    return quicksort(left) + middle + quicksort(right)\n",
    "\n",
    "print('\\r\\nResult = ', quicksort([3,6,8,10,11,1,2,1]))"
   ]
  },
  {
   "cell_type": "markdown",
   "metadata": {},
   "source": [
    "## Environment"
   ]
  },
  {
   "cell_type": "markdown",
   "metadata": {},
   "source": [
    "### C which environment currently used"
   ]
  },
  {
   "cell_type": "code",
   "execution_count": 3,
   "metadata": {},
   "outputs": [
    {
     "name": "stdout",
     "output_type": "stream",
     "text": [
      "/Users/olgu/opt/anaconda3\n"
     ]
    }
   ],
   "source": [
    "import sys\n",
    "print(sys.prefix)"
   ]
  },
  {
   "cell_type": "markdown",
   "metadata": {},
   "source": [
    "### c what is installed - ! enables python to run cmd line commands"
   ]
  },
  {
   "cell_type": "code",
   "execution_count": 4,
   "metadata": {},
   "outputs": [
    {
     "name": "stdout",
     "output_type": "stream",
     "text": [
      "attrs==18.2.0\r\n",
      "pdflatex==0.1.3\r\n"
     ]
    }
   ],
   "source": [
    "!python3 -m pip freeze"
   ]
  },
  {
   "cell_type": "markdown",
   "metadata": {},
   "source": [
    "### to upgrade a package"
   ]
  },
  {
   "cell_type": "code",
   "execution_count": 5,
   "metadata": {},
   "outputs": [
    {
     "name": "stdout",
     "output_type": "stream",
     "text": [
      "Requirement already satisfied: pip in /Users/olgu/opt/anaconda3/lib/python3.7/site-packages (22.0.4)\r\n"
     ]
    }
   ],
   "source": [
    "import sys\n",
    "!{sys.executable} -m pip install --upgrade pip"
   ]
  },
  {
   "cell_type": "markdown",
   "metadata": {},
   "source": [
    "### to install a package"
   ]
  },
  {
   "cell_type": "code",
   "execution_count": 6,
   "metadata": {},
   "outputs": [
    {
     "name": "stdout",
     "output_type": "stream",
     "text": [
      "Requirement already satisfied: numpy in /Users/olgu/opt/anaconda3/lib/python3.7/site-packages (1.21.2)\r\n"
     ]
    }
   ],
   "source": [
    "import sys\n",
    "!{sys.executable} -m pip install numpy"
   ]
  },
  {
   "cell_type": "markdown",
   "metadata": {},
   "source": [
    "## Import"
   ]
  },
  {
   "cell_type": "code",
   "execution_count": 7,
   "metadata": {},
   "outputs": [
    {
     "name": "stdout",
     "output_type": "stream",
     "text": [
      "[0 2 4 6]\n"
     ]
    }
   ],
   "source": [
    "from numpy import dot # instead of import numpy as np, then np.dot. Also, we do not load the whole lib, only the ones we need\n",
    "a=list(range(4))\n",
    "b=dot(a,2)\n",
    "print(b)"
   ]
  },
  {
   "cell_type": "markdown",
   "metadata": {},
   "source": [
    "# List"
   ]
  },
  {
   "cell_type": "code",
   "execution_count": 8,
   "metadata": {},
   "outputs": [
    {
     "name": "stdout",
     "output_type": "stream",
     "text": [
      "[0, 1, 2, 3, 4]\n",
      "[2, 2, 2, 2, 2]\n",
      "[3, 6, 8, 10]\n",
      "[11, 1, 2, 1]\n",
      "10\n",
      "1\n"
     ]
    }
   ],
   "source": [
    "x1=list(range(5))\n",
    "x2=[2]*5\n",
    "a=[3,6,8,10,11,1,2,1]\n",
    "print(x1)\n",
    "print(x2)\n",
    "print(a[:4])\n",
    "print(a[4:])\n",
    "print(a[3])\n",
    "print(a[-1])"
   ]
  },
  {
   "cell_type": "markdown",
   "metadata": {},
   "source": [
    "### A list of lists and NOT a 2D array. a.shape does not work. Would work in numpy seen below"
   ]
  },
  {
   "cell_type": "code",
   "execution_count": 9,
   "metadata": {},
   "outputs": [
    {
     "name": "stdout",
     "output_type": "stream",
     "text": [
      "size of the list = 3\n",
      "size of the first element of the list = 4\n"
     ]
    }
   ],
   "source": [
    "a = [[1,2,3,4], [5,6,7,8], [9,10,11,12]]\n",
    "print(f\"size of the list = {len(a)}\")\n",
    "print(f\"size of the first element of the list = {len(a[0])}\")"
   ]
  },
  {
   "cell_type": "markdown",
   "metadata": {},
   "source": [
    "# numpy array (not python list)"
   ]
  },
  {
   "cell_type": "code",
   "execution_count": 10,
   "metadata": {},
   "outputs": [
    {
     "name": "stdout",
     "output_type": "stream",
     "text": [
      "<class 'numpy.ndarray'>\n",
      "[[2 3]\n",
      " [6 7]]\n",
      "(3, 4)\n"
     ]
    }
   ],
   "source": [
    "import numpy as np\n",
    "a = np.array([[1,2,3,4], [5,6,7,8], [9,10,11,12]])\n",
    "print(type(a))\n",
    "print(a[:2, 1:3])\n",
    "print(a.shape)"
   ]
  },
  {
   "cell_type": "markdown",
   "metadata": {},
   "source": [
    "# Other differences numpy array vs python list"
   ]
  },
  {
   "cell_type": "markdown",
   "metadata": {},
   "source": [
    "### python list needs np.dot for multiplication"
   ]
  },
  {
   "cell_type": "code",
   "execution_count": 11,
   "metadata": {},
   "outputs": [
    {
     "name": "stdout",
     "output_type": "stream",
     "text": [
      "da=[1, 2, 3, 1, 2, 3]\n",
      "a2=[2 4 6]\n"
     ]
    }
   ],
   "source": [
    "a=[1,2,3]\n",
    "da=a*2\n",
    "print('da='+str(da))\n",
    "a2=np.dot(a,2)\n",
    "print('a2='+str(a2))"
   ]
  },
  {
   "cell_type": "markdown",
   "metadata": {},
   "source": [
    "### numpy array does NOT need np.dot for multiplication"
   ]
  },
  {
   "cell_type": "code",
   "execution_count": 12,
   "metadata": {},
   "outputs": [
    {
     "name": "stdout",
     "output_type": "stream",
     "text": [
      "na=[1 2 3]\n",
      "na2=[2 4 6]\n"
     ]
    }
   ],
   "source": [
    "na=np.array(a)\n",
    "print('na='+str(na))\n",
    "na2=na*2\n",
    "print('na2='+str(na2))"
   ]
  },
  {
   "cell_type": "markdown",
   "metadata": {},
   "source": [
    "### make a column vector"
   ]
  },
  {
   "cell_type": "code",
   "execution_count": 13,
   "metadata": {},
   "outputs": [
    {
     "data": {
      "text/plain": [
       "array([[1, 2, 3],\n",
       "       [2, 4, 6],\n",
       "       [3, 6, 9]])"
      ]
     },
     "execution_count": 13,
     "metadata": {},
     "output_type": "execute_result"
    }
   ],
   "source": [
    "cv = np.array([1,2,3])\n",
    "cv.shape=(3,1)\n",
    "cv\n",
    "cv@cv.T"
   ]
  },
  {
   "cell_type": "markdown",
   "metadata": {},
   "source": [
    "### text and print variables"
   ]
  },
  {
   "cell_type": "code",
   "execution_count": 14,
   "metadata": {},
   "outputs": [
    {
     "name": "stdout",
     "output_type": "stream",
     "text": [
      "without repr override => <__main__.Person object at 0x7fb5eb78a2d0>\n",
      "with repr override => 'Hello Adam'\n",
      "My str 'Hello Adam'\n"
     ]
    }
   ],
   "source": [
    "#Internally, repr()function calls __repr__() of the given object.\n",
    "#You can easily implement/override __repr__() so that repr() works differently.\n",
    "class Person:\n",
    "    name = 'Adam'\n",
    "\n",
    "class Person_repr:\n",
    "    name = 'Adam'\n",
    "\n",
    "    def __str__(self):\n",
    "        return 'My str'\n",
    "    def __repr__(self):\n",
    "        return repr('Hello ' + self.name )\n",
    "\n",
    "without_repr = f\"without repr override => {repr(Person())}\"\n",
    "with_repr = f\"with repr override => {repr(Person_repr())}\"\n",
    "with_format = '{0!s} {0!r}'.format(Person_repr())\n",
    "print(without_repr)\n",
    "print(with_repr)\n",
    "print(with_format)"
   ]
  },
  {
   "cell_type": "markdown",
   "metadata": {},
   "source": [
    "### To print more than one var, print them as tuple a,b,c. No need for paranthesis (a,b,c)"
   ]
  },
  {
   "cell_type": "code",
   "execution_count": 15,
   "metadata": {},
   "outputs": [
    {
     "data": {
      "text/plain": [
       "(\"with repr override => 'Hello Adam'\",\n",
       " 'without repr override => <__main__.Person object at 0x7fb5eb78a2d0>',\n",
       " \"My str 'Hello Adam'\")"
      ]
     },
     "execution_count": 15,
     "metadata": {},
     "output_type": "execute_result"
    }
   ],
   "source": [
    "with_repr, without_repr, with_format"
   ]
  },
  {
   "cell_type": "markdown",
   "metadata": {},
   "source": [
    "### vs this would print only the last one"
   ]
  },
  {
   "cell_type": "code",
   "execution_count": 16,
   "metadata": {},
   "outputs": [
    {
     "data": {
      "text/plain": [
       "\"My str 'Hello Adam'\""
      ]
     },
     "execution_count": 16,
     "metadata": {},
     "output_type": "execute_result"
    }
   ],
   "source": [
    "with_repr\n",
    "without_repr\n",
    "with_format"
   ]
  },
  {
   "cell_type": "code",
   "execution_count": 17,
   "metadata": {},
   "outputs": [
    {
     "name": "stdout",
     "output_type": "stream",
     "text": [
      "monkey #1\n",
      "#1: monkey\n",
      "#1: monkey\n",
      "cute\n",
      "cute\n"
     ]
    }
   ],
   "source": [
    "d = {'cat': 'cute', 'dog': 'furry'}\n",
    "idx=1\n",
    "animal=\"monkey\"\n",
    "print('{1} #{0}'.format(idx, animal)) # note the order. Not {0} {1}\n",
    "print('#%d: %s' % (idx, animal))\n",
    "print(f'#{idx}: {animal}')\n",
    "print(f\"{d['cat']}\")  # ok, quotations needs to be different\n",
    "print(f'{d[\"cat\"]}')  # ok, quotations needs to be different\n",
    "#print(f\"{d1[\"cat\"]}\") # NOT ok. Cannot use the same quotation"
   ]
  },
  {
   "cell_type": "code",
   "execution_count": 18,
   "metadata": {},
   "outputs": [
    {
     "name": "stdout",
     "output_type": "stream",
     "text": [
      "This is a\r\n",
      "Big HELLO \r\n",
      "from number 10\n",
      "\r\n",
      "This is the number = 10 in the middle\n",
      "v1 = 10\n"
     ]
    }
   ],
   "source": [
    "s1='big'\n",
    "s2='hello'\n",
    "v1=10\n",
    "print('This is a\\r\\n%s %s \\r\\nfrom number %d' % (s1.capitalize(), s2.upper(),v1))\n",
    "print('\\r\\nThis is the number =',v1,'in the middle')\n",
    "print(f\"v1 = {v1}\")"
   ]
  },
  {
   "cell_type": "markdown",
   "metadata": {},
   "source": [
    "### text list"
   ]
  },
  {
   "cell_type": "code",
   "execution_count": 19,
   "metadata": {},
   "outputs": [
    {
     "name": "stdout",
     "output_type": "stream",
     "text": [
      "#0: cat\n",
      "#1: dog\n",
      "#2: monkey\n"
     ]
    }
   ],
   "source": [
    "animals = ['cat', 'dog', 'monkey']\n",
    "for idx, animal in enumerate(animals):\n",
    "    print('#%d: %s' % (idx, animal))  # or  print(f'#{idx}: {animal}')"
   ]
  },
  {
   "cell_type": "code",
   "execution_count": 20,
   "metadata": {},
   "outputs": [
    {
     "name": "stdout",
     "output_type": "stream",
     "text": [
      "cat\n",
      "dog\n",
      "monkey\n"
     ]
    }
   ],
   "source": [
    "animals = ['cat', 'dog', 'monkey']\n",
    "for animal in animals:\n",
    "    print(animal)"
   ]
  },
  {
   "cell_type": "code",
   "execution_count": 21,
   "metadata": {},
   "outputs": [
    {
     "name": "stdout",
     "output_type": "stream",
     "text": [
      "(0, 'cat')\n",
      "(1, 'dog')\n",
      "(2, 'monkey')\n"
     ]
    }
   ],
   "source": [
    "animals = ['cat', 'dog', 'monkey']\n",
    "for animal in enumerate(animals):\n",
    "    print(animal)"
   ]
  },
  {
   "cell_type": "markdown",
   "metadata": {},
   "source": [
    "### Functions"
   ]
  },
  {
   "cell_type": "code",
   "execution_count": 22,
   "metadata": {},
   "outputs": [
    {
     "name": "stdout",
     "output_type": "stream",
     "text": [
      "[0, 1]\n",
      "{'default': 2}\n",
      "no return\n",
      "--- below prints 'no return' from fun call and 'None' for print statement\n",
      "no return\n",
      "None\n"
     ]
    }
   ],
   "source": [
    "def my_list(x:str=\"default\", y:int=2)->list:\n",
    "    \"\"\"Explanation of function.\"\"\"\n",
    "    a=list(range(y))\n",
    "    return a\n",
    "def my_dict(x:str=\"default\", y:int=2)->dict:\n",
    "    a={}\n",
    "    a[\"default\"]=2\n",
    "    return a\n",
    "def my_no_return(x:str=\"default\", y:int=2)->None:\n",
    "    print(\"no return\")\n",
    "\n",
    "print(my_list())\n",
    "print(my_dict())\n",
    "my_no_return()\n",
    "print(\"--- below prints 'no return' from fun call and 'None' for print statement\")\n",
    "print(my_no_return()) # note here that print returns None"
   ]
  },
  {
   "cell_type": "markdown",
   "metadata": {},
   "source": [
    "### List Comprehension"
   ]
  },
  {
   "cell_type": "code",
   "execution_count": 23,
   "metadata": {},
   "outputs": [
    {
     "name": "stdout",
     "output_type": "stream",
     "text": [
      "[4, 5]\n",
      "['test', 'temp', 'all']\n",
      "['test', 'all']\n",
      "['test']\n"
     ]
    }
   ],
   "source": [
    "class Data(object):\n",
    "    def __init__(self, name:str=\"\"):\n",
    "        self.name = name\n",
    "        self.temp_name = \"temp\"\n",
    "def my_fun(x:int=1)->None:\n",
    "    return x+1\n",
    "myds=[]\n",
    "myds.append(Data(\"test\"))\n",
    "myds.append(Data(\"\"))\n",
    "myds.append(Data(\"all\"))\n",
    "a=list(range(5))\n",
    "b=[my_fun(x) for x in a if x>2]\n",
    "print(b)\n",
    "c=[myd.name if myd.name else myd.temp_name for myd in myds]\n",
    "print(c)\n",
    "d=[myd.name if myd.name else myd.temp_name for myd in myds if myd.name!=\"\"]\n",
    "print(d)\n",
    "e=[myd.name if myd.name else myd.temp_name for myd in myds if len(myd.name)>3]\n",
    "print(e)"
   ]
  },
  {
   "cell_type": "markdown",
   "metadata": {},
   "source": [
    "### Tuple"
   ]
  },
  {
   "cell_type": "code",
   "execution_count": 24,
   "metadata": {},
   "outputs": [
    {
     "name": "stdout",
     "output_type": "stream",
     "text": [
      "[(3, 4)]\n",
      "[3, 7]\n"
     ]
    }
   ],
   "source": [
    "points = [(1,2)]\n",
    "points.append((3,4))\n",
    "b=[(x,y) for x,y in points if x>1]\n",
    "print(b)\n",
    "c=[x+y for x,y in points]\n",
    "print(c)"
   ]
  },
  {
   "cell_type": "markdown",
   "metadata": {},
   "source": [
    "### set (only unique element, NO duplicates)"
   ]
  },
  {
   "cell_type": "code",
   "execution_count": 25,
   "metadata": {},
   "outputs": [
    {
     "name": "stdout",
     "output_type": "stream",
     "text": [
      "('3', 'a', '4', 'b', 'a')\n",
      "['a', '3', 'b', '4']\n",
      "<enumerate object at 0x7fb5eb8ef280>\n"
     ]
    }
   ],
   "source": [
    "data=\"3\",\"a\",\"4\",\"b\",\"a\"  # tuple, NO need for paranthesis\n",
    "chars = list(set(data))   # \"a\" is duplicate.\n",
    "print(data)\n",
    "print(chars) # chars has only one \"a\"\n",
    "print(enumerate(chars))"
   ]
  },
  {
   "cell_type": "markdown",
   "metadata": {},
   "source": [
    "### Dictionary, NO duplicate key (make keys of dict a set)"
   ]
  },
  {
   "cell_type": "code",
   "execution_count": 26,
   "metadata": {},
   "outputs": [
    {
     "name": "stdout",
     "output_type": "stream",
     "text": [
      "{'cat': 'cute', 'dog': 'furry', 'fish': 'wet'}\n"
     ]
    }
   ],
   "source": [
    "d = {\"cat\": \"cute\", \"dog\": \"furry\"}  # Create a new dictionary with some data\n",
    "d[\"fish\"] = \"wet\"\n",
    "print(d)"
   ]
  },
  {
   "cell_type": "code",
   "execution_count": 27,
   "metadata": {},
   "outputs": [
    {
     "name": "stdout",
     "output_type": "stream",
     "text": [
      "cat is a key in the dict with value = cute\n"
     ]
    }
   ],
   "source": [
    "if 'cat' in d:  # OR, if 'cat' in d.keys():\n",
    "    print(f'cat is a key in the dict with value = {d[\"cat\"]}') # note the single quotation"
   ]
  },
  {
   "cell_type": "code",
   "execution_count": 28,
   "metadata": {},
   "outputs": [
    {
     "name": "stdout",
     "output_type": "stream",
     "text": [
      "cat , cute\n",
      "dog , furry\n",
      "fish , wet\n"
     ]
    }
   ],
   "source": [
    "for key, value in d.items():\n",
    "    print(f\"{key} , {value}\")"
   ]
  },
  {
   "cell_type": "markdown",
   "metadata": {},
   "source": [
    "### create a dict via lambda (not complete)"
   ]
  },
  {
   "cell_type": "code",
   "execution_count": 29,
   "metadata": {},
   "outputs": [
    {
     "data": {
      "text/plain": [
       "{'relu': <function __main__.<lambda>(x)>,\n",
       " 'tanh': <function __main__.<lambda>(x)>}"
      ]
     },
     "execution_count": 29,
     "metadata": {},
     "output_type": "execute_result"
    }
   ],
   "source": [
    "act={'relu': lambda x:np.maximum(0,x), 'tanh': lambda x:np.tanh(x)}\n",
    "act"
   ]
  },
  {
   "cell_type": "markdown",
   "metadata": {},
   "source": [
    "### create a dict via enumerate"
   ]
  },
  {
   "cell_type": "code",
   "execution_count": 30,
   "metadata": {},
   "outputs": [
    {
     "data": {
      "text/plain": [
       "({'c': 0, 'a': 1, 'd': 2, 'b': 3}, {0: 'c', 1: 'a', 2: 'd', 3: 'b'})"
      ]
     },
     "execution_count": 30,
     "metadata": {},
     "output_type": "execute_result"
    }
   ],
   "source": [
    "data=\"3\",\"a\",\"4\",\"b\",\"a\"\n",
    "data=\"a\",\"b\",\"c\",\"d\"\n",
    "sdata=set(data)\n",
    "chars = list(set(data))                             # chars is a list of unique chars ['u', 'r', 'm', 'h', 'y', 'N', 'R', 't', '.', ' ', 'l', 'd', 'e', 'T', ...]\n",
    "char_to_ix = { ch:i for i,ch in enumerate(chars) }  # char_to_ix is a dictionary {' ': 9, '.': 8, 'I': 16, 'N': 5, 'R': 6, 'T': 13, 'a': 21, 'b': 22, 'c': 14, 'd': 11, 'e': 12, 'f': 19, 'g': 25, 'h': 3, ...}\n",
    "ix_to_char = { i:ch for i,ch in enumerate(chars) }  # ix_to_char is a dictionary {0: 'u', 1: 'r', 2: 'm', 3: 'h', 4: 'y', 5: 'N', 6: 'R', 7: 't', 8: '.', 9: ' ', 10: 'l', 11: 'd', 12: 'e', 13: 'T', ...}\n",
    "char_to_ix, ix_to_char"
   ]
  },
  {
   "cell_type": "code",
   "execution_count": 31,
   "metadata": {},
   "outputs": [
    {
     "data": {
      "text/plain": [
       "('a', 'b', 'c', 'd')"
      ]
     },
     "execution_count": 31,
     "metadata": {},
     "output_type": "execute_result"
    }
   ],
   "source": [
    "data"
   ]
  },
  {
   "cell_type": "code",
   "execution_count": 32,
   "metadata": {},
   "outputs": [
    {
     "data": {
      "text/plain": [
       "{'a', 'b', 'c', 'd'}"
      ]
     },
     "execution_count": 32,
     "metadata": {},
     "output_type": "execute_result"
    }
   ],
   "source": [
    "sdata"
   ]
  },
  {
   "cell_type": "code",
   "execution_count": 33,
   "metadata": {},
   "outputs": [
    {
     "data": {
      "text/plain": [
       "['c', 'a', 'd', 'b']"
      ]
     },
     "execution_count": 33,
     "metadata": {},
     "output_type": "execute_result"
    }
   ],
   "source": [
    "chars"
   ]
  },
  {
   "cell_type": "markdown",
   "metadata": {},
   "source": [
    "### Saving and Loading"
   ]
  },
  {
   "cell_type": "code",
   "execution_count": 34,
   "metadata": {},
   "outputs": [],
   "source": [
    "# Creating the type of a structure\n",
    "dtype = [('Name', (np.str_, 10)), ('Marks', np.float64), ('GradeLevel', np.int32)]\n",
    "#Creating a Strucured Numpy array\n",
    "structuredArr = np.array([('Sam', 33.3, 3), ('Mike', 44.4, 5), ('Aadi', 66.6, 6), ('Riti', 88.8, 7)], dtype=dtype)\n",
    "np.savetxt('struct_array.csv', structuredArr, delimiter=',', fmt=['%s' , '%f', '%d'], header='Name,Marks,Age', comments='')"
   ]
  },
  {
   "cell_type": "code",
   "execution_count": 35,
   "metadata": {},
   "outputs": [
    {
     "name": "stdout",
     "output_type": "stream",
     "text": [
      "/Users/olgu/Documents/Olgu/Study/Coding/Python\n"
     ]
    }
   ],
   "source": [
    "from os import getcwd\n",
    "print(getcwd())\n",
    "# as csv\n",
    "data=np.arange(0,10,1)\n",
    "# data=np.array(['this', 'is', 'Olgu'])\n",
    "np.savetxt('data.csv',[data],delimiter=',')\n",
    "data_csv = np.loadtxt('data.csv', delimiter=',')\n",
    "\n",
    "# as binary *.npy file\n",
    "np.save('data.npy', data)\n",
    "data_bin = np.load('data.npy')\n",
    "\n",
    "# as compressed *.npz file. When loading, it loads in dict with names ‘arr_0’ for the first array, ‘arr_1’ for the second, and so on.\n",
    "np.savez_compressed('data.npz', data)\n",
    "dict_data = np.load('data.npz')\n",
    "data_comp = dict_data['arr_0']"
   ]
  },
  {
   "cell_type": "code",
   "execution_count": 36,
   "metadata": {},
   "outputs": [
    {
     "data": {
      "text/plain": [
       "array([0, 1, 2, 3, 4, 5, 6, 7, 8, 9])"
      ]
     },
     "execution_count": 36,
     "metadata": {},
     "output_type": "execute_result"
    }
   ],
   "source": [
    "data_comp"
   ]
  },
  {
   "cell_type": "markdown",
   "metadata": {},
   "source": [
    "# Classes"
   ]
  },
  {
   "cell_type": "code",
   "execution_count": 37,
   "metadata": {},
   "outputs": [
    {
     "name": "stdout",
     "output_type": "stream",
     "text": [
      "Hello, Fred\n",
      "HELLO, FRED!\n"
     ]
    }
   ],
   "source": [
    "class Greeter(object):\n",
    "\n",
    "    # Constructor\n",
    "    def __init__(self, name):\n",
    "        self.name = name  # Create an instance variable\n",
    "\n",
    "    # Instance method\n",
    "    def greet(self, loud=False):\n",
    "        if loud:\n",
    "            print('HELLO, %s!' % self.name.upper())\n",
    "        else:\n",
    "            print('Hello, %s' % self.name)\n",
    "\n",
    "g = Greeter('Fred')\n",
    "g.greet()\n",
    "g.greet(loud=True)"
   ]
  },
  {
   "cell_type": "code",
   "execution_count": 38,
   "metadata": {},
   "outputs": [
    {
     "name": "stdout",
     "output_type": "stream",
     "text": [
      "Hello my name is = 36 woooww\n"
     ]
    }
   ],
   "source": [
    "class Person:\n",
    "  def __init__(mysillyobject, name, age):\n",
    "    mysillyobject.name = name\n",
    "    mysillyobject.age = age\n",
    "\n",
    "  def myfunc(abc):\n",
    "    print(\"Hello my name is = %s woooww\" % abc.age)\n",
    "\n",
    "p1 = Person(\"John\", 36)\n",
    "p1.myfunc()"
   ]
  },
  {
   "cell_type": "code",
   "execution_count": 39,
   "metadata": {},
   "outputs": [
    {
     "name": "stdout",
     "output_type": "stream",
     "text": [
      "14\n",
      "17\n",
      "19\n"
     ]
    }
   ],
   "source": [
    "from random import randint\n",
    "for i in range(3):\n",
    "    print(randint(1, 25))"
   ]
  },
  {
   "cell_type": "code",
   "execution_count": 40,
   "metadata": {},
   "outputs": [
    {
     "data": {
      "text/plain": [
       "['t', 'h', 'i', 's', ' ', 'i', 's', ' ', 'a', ' ', 't', 'e', 's', 't']"
      ]
     },
     "execution_count": 40,
     "metadata": {},
     "output_type": "execute_result"
    }
   ],
   "source": [
    "from re import findall as fa\n",
    "test='this is a test'\n",
    "mod=r'.'\n",
    "test_re = fa(mod,test)\n",
    "test_re"
   ]
  },
  {
   "cell_type": "code",
   "execution_count": 41,
   "metadata": {},
   "outputs": [],
   "source": [
    "len?"
   ]
  },
  {
   "cell_type": "code",
   "execution_count": 42,
   "metadata": {},
   "outputs": [
    {
     "data": {
      "text/plain": [
       "([0.0, 0.0, 1.9999999999999998, 1.9999999999999998, 2.0000000000000004, 2.0],\n",
       " [1.9999999999999998, 1.9999999999999998, 2.0, 2.0, 2.0, 0.0])"
      ]
     },
     "execution_count": 42,
     "metadata": {},
     "output_type": "execute_result"
    }
   ],
   "source": [
    "xa=list(range(5))\n",
    "ya=np.dot(xa,2)\n",
    "aa,bb,n=[],[],[]\n",
    "min_bound = np.int32(len(xa) * .0)\n",
    "max_bound = np.int32(len(xa) * 1)\n",
    "for i in range(min_bound,max_bound+1):\n",
    "  xm1 = np.hstack([xa[:i], np.zeros(len(xa)-i)])\n",
    "  xm2 = np.hstack([np.zeros(i), xa[i:]])\n",
    "  xm = np.vstack([xm1, xm2]).T\n",
    "  m, c = np.linalg.lstsq(xm, ya, rcond=None)[0]\n",
    "  n.append(np.linalg.norm(ya-xm@np.hstack([m,c])))\n",
    "  aa.append(m)\n",
    "  bb.append(c)\n",
    "aa, bb"
   ]
  }
 ],
 "metadata": {
  "kernelspec": {
   "display_name": "Python 3 (ipykernel)",
   "language": "python",
   "name": "python3"
  },
  "language_info": {
   "codemirror_mode": {
    "name": "ipython",
    "version": 3
   },
   "file_extension": ".py",
   "mimetype": "text/x-python",
   "name": "python",
   "nbconvert_exporter": "python",
   "pygments_lexer": "ipython3",
   "version": "3.7.11"
  }
 },
 "nbformat": 4,
 "nbformat_minor": 2
}
