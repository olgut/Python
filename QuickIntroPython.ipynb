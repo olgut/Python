{
 "cells": [
  {
   "cell_type": "markdown",
   "metadata": {},
   "source": [
    "# * Operator vs Numpy"
   ]
  },
  {
   "cell_type": "code",
   "execution_count": 1,
   "metadata": {},
   "outputs": [
    {
     "name": "stdout",
     "output_type": "stream",
     "text": [
      "arr=[1, 2, 3]\n",
      "doubleArr=[1, 2, 3, 1, 2, 3]\n",
      "arrDot=[2 4 6]\n",
      "nArr=[1 2 3]\n",
      "doublenArr=[2 4 6]\n",
      "nArrDot=[2 4 6]\n"
     ]
    }
   ],
   "source": [
    "import numpy as np\n",
    "arr=[1,2,3]\n",
    "print('arr='+str(arr))\n",
    "doubleArr=arr*2\n",
    "print('doubleArr='+str(doubleArr))\n",
    "arrDot=np.dot(arr,2)\n",
    "print('arrDot='+str(arrDot))\n",
    "nArr=np.array(arr)\n",
    "print('nArr='+str(nArr))\n",
    "doublenArr=nArr*2\n",
    "print('doublenArr='+str(doublenArr))\n",
    "nArrDot=np.dot(nArr,2)\n",
    "print('nArrDot='+str(nArrDot))"
   ]
  },
  {
   "cell_type": "markdown",
   "metadata": {},
   "source": [
    "# List"
   ]
  },
  {
   "cell_type": "code",
   "execution_count": 2,
   "metadata": {},
   "outputs": [
    {
     "name": "stdout",
     "output_type": "stream",
     "text": [
      "[3, 6]\n",
      "[10]\n",
      "[3, 6] [10]\n"
     ]
    }
   ],
   "source": [
    "a=[3,6,8,10,11,1,2,1]\n",
    "print(a[:2])\n",
    "print([a[3]])\n",
    "print(a[:2],[a[3]])"
   ]
  },
  {
   "cell_type": "markdown",
   "metadata": {},
   "source": [
    "### Check the size of a given 2D list"
   ]
  },
  {
   "cell_type": "code",
   "execution_count": 3,
   "metadata": {},
   "outputs": [
    {
     "name": "stdout",
     "output_type": "stream",
     "text": [
      "3\n",
      "4\n",
      "[9, 10, 11, 12]\n"
     ]
    }
   ],
   "source": [
    "a = [[1,2,3,4], [5,6,7,8], [9,10,11,12]]\n",
    "print(len(a))\n",
    "print(len(a[0]))\n",
    "print(a[-1])"
   ]
  },
  {
   "cell_type": "markdown",
   "metadata": {},
   "source": [
    "# numpy array (not python list)"
   ]
  },
  {
   "cell_type": "code",
   "execution_count": 4,
   "metadata": {},
   "outputs": [
    {
     "name": "stdout",
     "output_type": "stream",
     "text": [
      "[[2 3]\n",
      " [6 7]]\n",
      "(3, 4)\n"
     ]
    }
   ],
   "source": [
    "import numpy as np\n",
    "a = np.array([[1,2,3,4], [5,6,7,8], [9,10,11,12]])\n",
    "print(a[:2, 1:3])\n",
    "print(a.shape)"
   ]
  },
  {
   "cell_type": "markdown",
   "metadata": {},
   "source": [
    "### text and print variables"
   ]
  },
  {
   "cell_type": "code",
   "execution_count": 5,
   "metadata": {},
   "outputs": [
    {
     "name": "stdout",
     "output_type": "stream",
     "text": [
      "This is a\r\n",
      "Big HELLO \r\n",
      "from number 10\n",
      "\r\n",
      "This is the number = 10 in the middle\n"
     ]
    }
   ],
   "source": [
    "s1='big'\n",
    "s2='hello'\n",
    "v1=10\n",
    "print('This is a\\r\\n%s %s \\r\\nfrom number %d' % (s1.capitalize(), s2.upper(),v1))\n",
    "print('\\r\\nThis is the number =',v1,'in the middle')"
   ]
  },
  {
   "cell_type": "markdown",
   "metadata": {},
   "source": [
    "### text list"
   ]
  },
  {
   "cell_type": "code",
   "execution_count": 6,
   "metadata": {},
   "outputs": [
    {
     "name": "stdout",
     "output_type": "stream",
     "text": [
      "#1: cat\n",
      "#2: dog\n",
      "#3: monkey\n"
     ]
    }
   ],
   "source": [
    "animals = ['cat', 'dog', 'monkey']\n",
    "for idx, animal in enumerate(animals):\n",
    "    print('#%d: %s' % (idx + 1, animal))"
   ]
  },
  {
   "cell_type": "code",
   "execution_count": 7,
   "metadata": {},
   "outputs": [
    {
     "name": "stdout",
     "output_type": "stream",
     "text": [
      "(0, 'cat')\n",
      "(1, 'dog')\n",
      "(2, 'monkey')\n"
     ]
    }
   ],
   "source": [
    "animals = ['cat', 'dog', 'monkey']\n",
    "for animal in enumerate(animals):\n",
    "    print(animal)"
   ]
  },
  {
   "cell_type": "code",
   "execution_count": 8,
   "metadata": {},
   "outputs": [
    {
     "name": "stdout",
     "output_type": "stream",
     "text": [
      "cat\n",
      "dog\n",
      "monkey\n"
     ]
    }
   ],
   "source": [
    "animals = ['cat', 'dog', 'monkey']\n",
    "for animal in animals:\n",
    "    print(animal)"
   ]
  },
  {
   "cell_type": "markdown",
   "metadata": {},
   "source": [
    "### Dictionary"
   ]
  },
  {
   "cell_type": "code",
   "execution_count": 9,
   "metadata": {},
   "outputs": [
    {
     "name": "stdout",
     "output_type": "stream",
     "text": [
      "{'cat': 'cute', 'dog': 'furry', 'fish': 'wet'}\n"
     ]
    }
   ],
   "source": [
    "d = {'cat': 'cute', 'dog': 'furry'}  # Create a new dictionary with some data\n",
    "d['fish'] = 'wet' \n",
    "print(d)"
   ]
  },
  {
   "cell_type": "code",
   "execution_count": 10,
   "metadata": {
    "scrolled": true
   },
   "outputs": [
    {
     "name": "stdout",
     "output_type": "stream",
     "text": [
      "<class 'dict'>\n"
     ]
    }
   ],
   "source": [
    "print(type(d))"
   ]
  },
  {
   "cell_type": "code",
   "execution_count": 11,
   "metadata": {
    "scrolled": true
   },
   "outputs": [
    {
     "data": {
      "text/plain": [
       "dict"
      ]
     },
     "execution_count": 11,
     "metadata": {},
     "output_type": "execute_result"
    }
   ],
   "source": [
    "type(d)"
   ]
  },
  {
   "cell_type": "markdown",
   "metadata": {},
   "source": [
    "# Quicksort Algorithm"
   ]
  },
  {
   "cell_type": "code",
   "execution_count": 12,
   "metadata": {},
   "outputs": [
    {
     "name": "stdout",
     "output_type": "stream",
     "text": [
      "[3, 6, 8, 10, 1, 2, 1]\n",
      "[11]\n",
      "[]\n",
      "loop number = X\n",
      "[3, 6, 8, 1, 2, 1]\n",
      "[10]\n",
      "[]\n",
      "loop number = X\n",
      "[]\n",
      "[1, 1]\n",
      "[3, 6, 8, 2]\n",
      "loop number = X\n",
      "[3, 6, 2]\n",
      "[8]\n",
      "[]\n",
      "loop number = X\n",
      "[3, 2]\n",
      "[6]\n",
      "[]\n",
      "loop number = X\n",
      "[]\n",
      "[2]\n",
      "[3]\n",
      "loop number = X\n",
      "\r\n",
      "Result =  [1, 1, 2, 3, 6, 8, 10, 11]\n"
     ]
    }
   ],
   "source": [
    "def quicksort(arr):\n",
    "    if len(arr) <= 1:\n",
    "        return arr\n",
    "    pivot = arr[len(arr) // 2]\n",
    "    left = [x for x in arr if x < pivot]\n",
    "    middle = [x for x in arr if x == pivot]\n",
    "    right = [x for x in arr if x > pivot]\n",
    "    print(left)\n",
    "    print(middle)\n",
    "    print(right)\n",
    "    print(\"loop number = X\")\n",
    "    return quicksort(left) + middle + quicksort(right)\n",
    "\n",
    "print('\\r\\nResult = ', quicksort([3,6,8,10,11,1,2,1]))"
   ]
  },
  {
   "cell_type": "markdown",
   "metadata": {},
   "source": [
    "# Classes"
   ]
  },
  {
   "cell_type": "code",
   "execution_count": 13,
   "metadata": {},
   "outputs": [
    {
     "name": "stdout",
     "output_type": "stream",
     "text": [
      "Hello, Fred\n",
      "HELLO, FRED!\n"
     ]
    }
   ],
   "source": [
    "class Greeter(object):\n",
    "\n",
    "    # Constructor\n",
    "    def __init__(self, name):\n",
    "        self.name = name  # Create an instance variable\n",
    "\n",
    "    # Instance method\n",
    "    def greet(self, loud=False):\n",
    "        if loud:\n",
    "            print('HELLO, %s!' % self.name.upper())\n",
    "        else:\n",
    "            print('Hello, %s' % self.name)\n",
    "\n",
    "g = Greeter('Fred')\n",
    "g.greet()\n",
    "g.greet(loud=True)"
   ]
  },
  {
   "cell_type": "code",
   "execution_count": 14,
   "metadata": {},
   "outputs": [
    {
     "name": "stdout",
     "output_type": "stream",
     "text": [
      "Hello my name is = 36 woooww\n"
     ]
    }
   ],
   "source": [
    "class Person:\n",
    "  def __init__(mysillyobject, name, age):\n",
    "    mysillyobject.name = name\n",
    "    mysillyobject.age = age\n",
    "\n",
    "  def myfunc(abc):\n",
    "    print(\"Hello my name is = %s woooww\" % abc.age)\n",
    "\n",
    "p1 = Person(\"John\", 36)\n",
    "p1.myfunc()"
   ]
  },
  {
   "cell_type": "code",
   "execution_count": 15,
   "metadata": {},
   "outputs": [
    {
     "name": "stdout",
     "output_type": "stream",
     "text": [
      "22\n",
      "12\n",
      "11\n",
      "23\n",
      "1\n",
      "11\n",
      "25\n",
      "2\n",
      "9\n",
      "23\n"
     ]
    }
   ],
   "source": [
    "from random import randint\n",
    "for i in range(10):\n",
    "    print(randint(1, 25))"
   ]
  },
  {
   "cell_type": "markdown",
   "metadata": {},
   "source": [
    "# Lambda function"
   ]
  },
  {
   "cell_type": "code",
   "execution_count": 16,
   "metadata": {},
   "outputs": [
    {
     "data": {
      "text/plain": [
       "5"
      ]
     },
     "execution_count": 16,
     "metadata": {},
     "output_type": "execute_result"
    }
   ],
   "source": [
    "(lambda x, y: x + y)(2, 3)"
   ]
  },
  {
   "cell_type": "code",
   "execution_count": 17,
   "metadata": {},
   "outputs": [
    {
     "name": "stdout",
     "output_type": "stream",
     "text": [
      "22\n",
      "33\n"
     ]
    }
   ],
   "source": [
    "def myfunc(n):\n",
    "  return lambda a : a * n\n",
    "\n",
    "mydoubler = myfunc(2)\n",
    "mytripler = myfunc(3)\n",
    "\n",
    "print(mydoubler(11)) \n",
    "print(mytripler(11))"
   ]
  },
  {
   "cell_type": "code",
   "execution_count": 18,
   "metadata": {},
   "outputs": [
    {
     "name": "stdout",
     "output_type": "stream",
     "text": [
      "[TRACE] func: add_two, args: (3,), kwargs: {}\n",
      "5\n",
      "[TRACE] func: <lambda>, args: (3,), kwargs: {}\n",
      "9\n",
      "[TRACE] func: <lambda>, args: (0,), kwargs: {}\n",
      "[TRACE] func: <lambda>, args: (1,), kwargs: {}\n",
      "[TRACE] func: <lambda>, args: (2,), kwargs: {}\n"
     ]
    },
    {
     "data": {
      "text/plain": [
       "[0, 2, 4]"
      ]
     },
     "execution_count": 18,
     "metadata": {},
     "output_type": "execute_result"
    }
   ],
   "source": [
    "# Defining a decorator\n",
    "def trace(f):\n",
    "    def wrap(*args, **kwargs):\n",
    "        print(f\"[TRACE] func: {f.__name__}, args: {args}, kwargs: {kwargs}\")\n",
    "        return f(*args, **kwargs) \n",
    "    return wrap\n",
    "\n",
    "# Applying decorator to a function\n",
    "@trace\n",
    "def add_two(x):\n",
    "    return x + 2\n",
    " \n",
    "# Calling the decorated function\n",
    "print(add_two(3))\n",
    " \n",
    "# Applying decorator to a lambda\n",
    "print((trace(lambda x: x ** 2))(3))\n",
    "\n",
    "list(map(trace(lambda x: x*2), range(3)))"
   ]
  },
  {
   "cell_type": "code",
   "execution_count": null,
   "metadata": {},
   "outputs": [],
   "source": []
  }
 ],
 "metadata": {
  "kernelspec": {
   "display_name": "Python 3",
   "language": "python",
   "name": "python3"
  },
  "language_info": {
   "codemirror_mode": {
    "name": "ipython",
    "version": 3
   },
   "file_extension": ".py",
   "mimetype": "text/x-python",
   "name": "python",
   "nbconvert_exporter": "python",
   "pygments_lexer": "ipython3",
   "version": "3.7.4"
  }
 },
 "nbformat": 4,
 "nbformat_minor": 2
}
